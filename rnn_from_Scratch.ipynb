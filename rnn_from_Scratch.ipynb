{
  "nbformat": 4,
  "nbformat_minor": 0,
  "metadata": {
    "colab": {
      "provenance": [],
      "authorship_tag": "ABX9TyMxmWtD9c15Eoa+nyhx8iSi",
      "include_colab_link": true
    },
    "kernelspec": {
      "name": "python3",
      "display_name": "Python 3"
    },
    "language_info": {
      "name": "python"
    }
  },
  "cells": [
    {
      "cell_type": "markdown",
      "metadata": {
        "id": "view-in-github",
        "colab_type": "text"
      },
      "source": [
        "<a href=\"https://colab.research.google.com/github/rn23930/Deep_Learning/blob/CE880_Lab_coursework/rnn_from_Scratch.ipynb\" target=\"_parent\"><img src=\"https://colab.research.google.com/assets/colab-badge.svg\" alt=\"Open In Colab\"/></a>"
      ]
    },
    {
      "cell_type": "code",
      "execution_count": 1,
      "metadata": {
        "id": "YlIT6DgdJo3e"
      },
      "outputs": [],
      "source": [
        "import tensorflow as tf\n",
        "\n",
        "class My_RNNcall(tf.keras.layers.Layer):\n",
        "  def __init__(self,rnn_units,input_dim,output_dim):\n",
        "    super(My_RNNcall,self).__init__()\n",
        "\n",
        "    #initialize weight matrix\n",
        "    self.W_xh=self.add_weight([rnn_units,input_dim])\n",
        "    self.W_hh=self.add_weight([rnn_units,rnn_units])\n",
        "    self.W_hy=self.add_weight([output_dim,rnn_units])\n",
        "\n",
        "    # initialize hidden state to keras\n",
        "    self.h=tf.zeros([rnn_units,1])\n",
        "\n",
        "  def call(self,x):\n",
        "    #update the hidden state\n",
        "    self.h=tf.math.tanh(self.W_hh*self.h+self.W_xh*x)\n",
        "\n",
        "    #compute the output\n",
        "    output=self.W_hy*self.h\n",
        "\n",
        "    return output,self.h\n",
        "\n"
      ]
    }
  ]
}